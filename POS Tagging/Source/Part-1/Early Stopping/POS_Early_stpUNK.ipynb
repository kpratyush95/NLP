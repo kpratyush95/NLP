{
  "nbformat": 4,
  "nbformat_minor": 0,
  "metadata": {
    "colab": {
      "name": "POS_Early_stpUNK.ipynb",
      "provenance": []
    },
    "kernelspec": {
      "name": "python3",
      "display_name": "Python 3"
    }
  },
  "cells": [
    {
      "cell_type": "code",
      "metadata": {
        "id": "sG7G4hHOAwev",
        "colab_type": "code",
        "colab": {}
      },
      "source": [
        "import pandas as pd\n",
        "import torch\n",
        "import torch.nn as nn\n",
        "import torch.nn.functional as F\n",
        "import torch.optim as optim\n",
        "import numpy as np"
      ],
      "execution_count": 1,
      "outputs": []
    },
    {
      "cell_type": "code",
      "metadata": {
        "id": "VREDyAcR7xO5",
        "colab_type": "code",
        "colab": {}
      },
      "source": [
        "# From utils.py\n",
        "def read_data(f):\n",
        "\twith open(f) as inp:\n",
        "\t\tlines = inp.readlines()\n",
        "\tdata = []\n",
        "\tfor line in lines:\n",
        "\t\tline = line.strip().split()\n",
        "\t\tsentence = []\n",
        "\t\tfor token in line:\n",
        "\t\t\ttoken = token.split('|')\n",
        "\t\t\tword = token[0]\n",
        "\t\t\ttag = token[1]\n",
        "\t\t\tsentence.append((word,tag))\n",
        "\t\tdata.append(sentence)\n",
        "\treturn data"
      ],
      "execution_count": 2,
      "outputs": []
    },
    {
      "cell_type": "code",
      "metadata": {
        "id": "u7fMMx9f8ezG",
        "colab_type": "code",
        "colab": {}
      },
      "source": [
        "# from utils.py\n",
        "def convert_data_for_training(data):\n",
        "\t#for d in data:\n",
        "\t#\ttokens = [t[0] for t in d]\n",
        "\t#\ttags = [t[1] for t in d]\n",
        "\treturn [([t[0] for t in d],[t[1] for t in d]) for d in data]"
      ],
      "execution_count": 3,
      "outputs": []
    },
    {
      "cell_type": "code",
      "metadata": {
        "id": "2O_WVWcQ8l39",
        "colab_type": "code",
        "colab": {}
      },
      "source": [
        "# from pytorch_tagging.py\n",
        "TRAINING_FILE = \"./irish.train\"\n",
        "training_data = convert_data_for_training(read_data(TRAINING_FILE))"
      ],
      "execution_count": 4,
      "outputs": []
    },
    {
      "cell_type": "code",
      "metadata": {
        "id": "7NQC5TVn5HJz",
        "colab_type": "code",
        "colab": {}
      },
      "source": [
        "VALIDATION_FILE = \"./irish.dev\"\n",
        "validation_data = convert_data_for_training(read_data(VALIDATION_FILE))"
      ],
      "execution_count": 5,
      "outputs": []
    },
    {
      "cell_type": "code",
      "metadata": {
        "id": "aUiD4gxv_DYi",
        "colab_type": "code",
        "colab": {}
      },
      "source": [
        "# from utils.py\n",
        "def rareWordstoUNK(tokenlist,keeplist, replaceToken='UNK'):\n",
        "\treturn [w if w in keeplist else replaceToken for w in tokenlist]"
      ],
      "execution_count": 6,
      "outputs": []
    },
    {
      "cell_type": "code",
      "metadata": {
        "id": "rgkP_K0a8tH0",
        "colab_type": "code",
        "colab": {}
      },
      "source": [
        "#from utils.py\n",
        "def substitute_with_UNK(data, n=1):\n",
        "\tword_frequency = {}\n",
        "\tdata_list = pd.DataFrame(data)\n",
        "\ttoken_list = data_list[0]\n",
        "\tfor token in token_list:\n",
        "\t\tfor word in token:\n",
        "\t\t\tif word in word_frequency:\n",
        "\t\t\t\tword_frequency[word]=word_frequency[word]+1\n",
        "\t\t\telse:\n",
        "\t\t\t\tword_frequency[word]=1\n",
        "\tfrequent_words=[key for key,value in word_frequency.items() if value >1]\n",
        "\ttoken_list = token_list.apply(rareWordstoUNK, args=(frequent_words,'UNK'))\n",
        "\treturn list(zip(token_list,pd.DataFrame(data)[1]))"
      ],
      "execution_count": 7,
      "outputs": []
    },
    {
      "cell_type": "code",
      "metadata": {
        "id": "LWe0r7X5_EIm",
        "colab_type": "code",
        "colab": {}
      },
      "source": [
        "# pytorch_taggin.py\n",
        "# training_data_UNK = utils.substitute_with_UNK(training_data)\n",
        "training_data_UNK = substitute_with_UNK(training_data)\n"
      ],
      "execution_count": 8,
      "outputs": []
    },
    {
      "cell_type": "code",
      "metadata": {
        "id": "26YrTKdK74_O",
        "colab_type": "code",
        "colab": {}
      },
      "source": [
        "validataion_data_UNK = substitute_with_UNK(validation_data)"
      ],
      "execution_count": 9,
      "outputs": []
    },
    {
      "cell_type": "code",
      "metadata": {
        "id": "7qVh1mDZA9Qf",
        "colab_type": "code",
        "colab": {}
      },
      "source": [
        "# from pytorch_tagging.py \n",
        "def words_tags_indes(data):\n",
        "\tword_to_ix = {}#{'UNK':0}\n",
        "\tix_to_word = {}#{0:'UNK'}\n",
        "\ttag_to_ix = {}\n",
        "\tix_to_tag = {}\n",
        "\tfor sent, tags in data:\n",
        "\t\tfor word in sent:\n",
        "\t\t\tif word not in word_to_ix:\n",
        "\t\t\t\tword_to_ix[word] = len(word_to_ix)\n",
        "\t\t\t\tix_to_word[word_to_ix[word]] = word\n",
        "\t\tfor tag in tags:\n",
        "\t\t\tif tag not in tag_to_ix:\n",
        "\t\t\t\ttag_to_ix[tag] = len(tag_to_ix)\n",
        "\t\t\t\tix_to_tag[tag_to_ix[tag]] = tag\n",
        "\treturn word_to_ix,ix_to_word,ix_to_tag, tag_to_ix"
      ],
      "execution_count": 10,
      "outputs": []
    },
    {
      "cell_type": "code",
      "metadata": {
        "id": "ASFeabbyItKu",
        "colab_type": "code",
        "colab": {}
      },
      "source": [
        "word_to_ix_UNK, ix_to_word_UNK, ix_to_tag_UNK, tag_to_ix_UNK = words_tags_indes(training_data_UNK)\n",
        "#valid_word_to_ix_UNK, valid_ix_to_word_UNK, valid_ix_to_tag_UNK, valid_tag_to_ix_UNK = words_tags_indes(validataion_data_UNK)"
      ],
      "execution_count": 11,
      "outputs": []
    },
    {
      "cell_type": "code",
      "metadata": {
        "id": "R7yhDw-dBNdD",
        "colab_type": "code",
        "colab": {}
      },
      "source": [
        "#pytorch_tagging.py\n",
        "torch.manual_seed(42)\n",
        "#Converts a sequence of words to a tensor of numerical values. \n",
        "def prepare_sequence(seq, to_ix):\n",
        "\tidxs = []\n",
        "\tfor word in seq:\n",
        "\t\tif word in to_ix:\n",
        "\t\t\tidxs.append(to_ix[word])\n",
        "\t\telse:\n",
        "\t\t\t idxs.append(to_ix['UNK'])\n",
        "\treturn torch.tensor(idxs, dtype=torch.long)"
      ],
      "execution_count": 12,
      "outputs": []
    },
    {
      "cell_type": "code",
      "metadata": {
        "id": "Uo1TMumUBuoE",
        "colab_type": "code",
        "colab": {}
      },
      "source": [
        "#pytorch_tagging.py\n",
        "class LSTMTagger(nn.Module):\n",
        "\t# Class that defines our model\n",
        "\tdef __init__(self, embedding_dim, hidden_dim, vocab_size, tagset_size):\n",
        "\t\tsuper(LSTMTagger, self).__init__()\n",
        "\t\tself.hidden_dim = hidden_dim\n",
        "\n",
        "\t\tself.word_embeddings = nn.Embedding(vocab_size, embedding_dim)\n",
        "\n",
        "\t\t# The LSTM takes word embeddings as inputs, and outputs hidden states\n",
        "\t\t# with dimensionality hidden_dim.\n",
        "\t\tself.lstm = nn.LSTM(embedding_dim, hidden_dim)#, bidirectional=True)\n",
        "\n",
        "\t\t# The linear layer that maps from hidden state space to tag space\n",
        "\t\tself.hidden2tag = nn.Linear(hidden_dim, tagset_size) #nn.Linear(hidden_dim*2, tagset_size)\n",
        "\n",
        "\t# This is the forward computation, which constructs the computation graph\n",
        "\tdef forward(self, sentence):\n",
        "\t\t# Get the embeddings\n",
        "\t\tembeds = self.word_embeddings(sentence)\n",
        "\t\t# put them through the LSTM and get its output\n",
        "\t\tlstm_out, _ = self.lstm(embeds.view(len(sentence), 1, -1))\n",
        "\t\t# pass that output through the linnear layer\n",
        "\t\ttag_space = self.hidden2tag(lstm_out.view(len(sentence), -1))\n",
        "\t\t# convert the logits to a log probability distribution\n",
        "\t\ttag_scores = F.log_softmax(tag_space, dim=1)\n",
        "\t\treturn tag_scores"
      ],
      "execution_count": 13,
      "outputs": []
    },
    {
      "cell_type": "code",
      "metadata": {
        "id": "F4jz-UCrB8t7",
        "colab_type": "code",
        "colab": {}
      },
      "source": [
        "#pytorch_tagging.py\n",
        "# Hyperparameters\n",
        "EMBEDDING_DIM = 32\n",
        "HIDDEN_DIM = 32\n",
        "# DROPOUT = ?\n",
        "# LAYERS = ?"
      ],
      "execution_count": 14,
      "outputs": []
    },
    {
      "cell_type": "code",
      "metadata": {
        "id": "BsaWzD9VCBkK",
        "colab_type": "code",
        "colab": {}
      },
      "source": [
        "#pytorch_taggin.py\n",
        "# Initialize the model\n",
        "model = LSTMTagger(EMBEDDING_DIM, HIDDEN_DIM, len(word_to_ix_UNK), len(tag_to_ix_UNK))\n",
        "# Loss function to use\n",
        "loss_function = nn.NLLLoss()\n",
        "# Optimizer to use during training\n",
        "optimizer = optim.SGD(model.parameters(), lr=0.1)\n"
      ],
      "execution_count": 15,
      "outputs": []
    },
    {
      "cell_type": "code",
      "metadata": {
        "id": "d8cSfopJ8vq-",
        "colab_type": "code",
        "colab": {}
      },
      "source": [
        "#pytorch_taggin.py\n",
        "# Training loop\n",
        "def train_model(model,n_epochs, patience, training_data_UNK, validation_data):\n",
        "\tpatience_counter = 0\n",
        "\tmin_loss = np.inf\n",
        "\tpath = \"./model_save_Early_stop_UNK.pth\"\n",
        "\tavg_training_losses = []\n",
        "\tavg_valid_losses = []\n",
        "\tfor epoch in range(50):  # normally you would NOT do 100 epochs, it is toy data\n",
        "\t\tprint(f\"Starting epoch {epoch}...\")\n",
        "\t\ttraining_losses = []\n",
        "\t\tfor sentence, tags in training_data_UNK:\n",
        "\t\t\t# Step 1. Remember that Pytorch accumulates gradients.\n",
        "\t\t\t# We need to clear them out before each instance\n",
        "\t\t\tmodel.zero_grad()\n",
        "\n",
        "\t\t\t# Step 2. Get our inputs ready for the network, that is, turn them into\n",
        "\t\t\t# Tensors of word indices.\n",
        "\t\t\t# Eventually I suggest you use the DataLoader modules\n",
        "\t\t\t# The batching can take place here\n",
        "\t\t\tsentence_in = prepare_sequence(sentence, word_to_ix_UNK)\n",
        "\t\t\ttargets = prepare_sequence(tags, tag_to_ix_UNK)\n",
        "\t\t\t# Step 3. Run our forward pass.\n",
        "\t\t\ttag_scores = model(sentence_in)\n",
        "\t\n",
        "\t\t\t# Step 4. Compute the loss, gradients, and update the parameters by\n",
        "\t\t\t#  calling optimizer.step()\n",
        "\t\t\tloss = loss_function(tag_scores, targets)\n",
        "\t\t\ttraining_losses.append(loss.item())\n",
        "\t\t\tloss.backward()\n",
        "\t\t\toptimizer.step()\n",
        "\t\tavg_training_losses.append(np.average(training_losses))\n",
        "\t\tprint(\" Training Loss is \",avg_training_losses[epoch])\n",
        "\t\tvalid_losses = []\n",
        "\t\tfor validation_sentence, validation_tags in validation_data:\n",
        "\t\t\tvalidation_sentence_in = prepare_sequence(validation_sentence, word_to_ix_UNK)\n",
        "\t\t\tvalidation_targets = prepare_sequence(validation_tags, tag_to_ix_UNK)\n",
        "\t\t\tvalidation_tag_scores = model(validation_sentence_in)\n",
        "\t\t\tvalidation_loss = loss_function(validation_tag_scores, validation_targets)\n",
        "\t\t\tvalid_losses.append(validation_loss.item())\n",
        "\t\tavg_valid_losses.append(np.average(valid_losses))\n",
        "\t\tprint(\"validation loss is \",avg_valid_losses[epoch])\n",
        "\t\tif min_loss > avg_valid_losses[epoch]:\n",
        "\t\t\tpatience_counter = 0\n",
        "\t\t\tmin_loss = avg_valid_losses[epoch]\n",
        "\t\telse:\n",
        "\t\t\tpatience_counter+=1\n",
        "\t\t\tif patience_counter == patience:\n",
        "\t\t\t\tprint(\"Early Stopping to avoid overfitting\")\n",
        "\t\t\t\tmodel_checkpoint = torch.load(path)\n",
        "\t\t\t\tmodel.load_state_dict(model_checkpoint['state_dict'])\n",
        "\t\t\t\toptimizer.load_state_dict(model_checkpoint['optimizer'])\n",
        "\t\t\t\tmodel_epoch = model_checkpoint['epoch']\n",
        "\t\t\t\tprint(\"patience counter is \",patience_counter)\n",
        "\t\t\t\tprint(\"loaded epoch is\",model_epoch)\n",
        "\t\t\t\tbreak\n",
        "\t\tif patience_counter==0:\n",
        "\t\t\tprint(\"Saving model here\")\n",
        "\t\t\tmodel_state = {'epoch' : epoch,\n",
        "\t\t\t\t\t\t'state_dict' : model.state_dict(),\n",
        "\t\t\t\t\t\t'optimizer' : optimizer.state_dict(),\n",
        "\t\t\t\t\t\t}\n",
        "\t\t\ttorch.save(model_state, path)\n",
        "\t\tprint(patience_counter)\n",
        "\treturn avg_training_losses, avg_valid_losses"
      ],
      "execution_count": 16,
      "outputs": []
    },
    {
      "cell_type": "code",
      "metadata": {
        "id": "SWEm3aOz7UVC",
        "colab_type": "code",
        "colab": {
          "base_uri": "https://localhost:8080/",
          "height": 1000
        },
        "outputId": "2d1afa25-cbd4-4125-82b4-87cf637603e0"
      },
      "source": [
        "avg_training_losses, avg_valid_losses = train_model(model,20, 8, training_data, validation_data)"
      ],
      "execution_count": 17,
      "outputs": [
        {
          "output_type": "stream",
          "text": [
            "Starting epoch 0...\n",
            " Training Loss is  1.4683337459371135\n",
            "validation loss is  1.0803982592342698\n",
            "Saving model here\n",
            "0\n",
            "Starting epoch 1...\n",
            " Training Loss is  0.9308210200666569\n",
            "validation loss is  0.8611823955092356\n",
            "Saving model here\n",
            "0\n",
            "Starting epoch 2...\n",
            " Training Loss is  0.7612525706235717\n",
            "validation loss is  0.7616524794727498\n",
            "Saving model here\n",
            "0\n",
            "Starting epoch 3...\n",
            " Training Loss is  0.6686052944033289\n",
            "validation loss is  0.7042176538578621\n",
            "Saving model here\n",
            "0\n",
            "Starting epoch 4...\n",
            " Training Loss is  0.6056271723012955\n",
            "validation loss is  0.6658569554284116\n",
            "Saving model here\n",
            "0\n",
            "Starting epoch 5...\n",
            " Training Loss is  0.5589162792760287\n",
            "validation loss is  0.6375619114238248\n",
            "Saving model here\n",
            "0\n",
            "Starting epoch 6...\n",
            " Training Loss is  0.5220722689597855\n",
            "validation loss is  0.6162899442764614\n",
            "Saving model here\n",
            "0\n",
            "Starting epoch 7...\n",
            " Training Loss is  0.4916458731131624\n",
            "validation loss is  0.5998148894631314\n",
            "Saving model here\n",
            "0\n",
            "Starting epoch 8...\n",
            " Training Loss is  0.46599069992539016\n",
            "validation loss is  0.5868641587765164\n",
            "Saving model here\n",
            "0\n",
            "Starting epoch 9...\n",
            " Training Loss is  0.44370498990132723\n",
            "validation loss is  0.5766603614754992\n",
            "Saving model here\n",
            "0\n",
            "Starting epoch 10...\n",
            " Training Loss is  0.4240452255955412\n",
            "validation loss is  0.5687231250559527\n",
            "Saving model here\n",
            "0\n",
            "Starting epoch 11...\n",
            " Training Loss is  0.4064611682740497\n",
            "validation loss is  0.5623803415842676\n",
            "Saving model here\n",
            "0\n",
            "Starting epoch 12...\n",
            " Training Loss is  0.3907580843276461\n",
            "validation loss is  0.5571844215022643\n",
            "Saving model here\n",
            "0\n",
            "Starting epoch 13...\n",
            " Training Loss is  0.37667674840343435\n",
            "validation loss is  0.5528629326515577\n",
            "Saving model here\n",
            "0\n",
            "Starting epoch 14...\n",
            " Training Loss is  0.36389375811013147\n",
            "validation loss is  0.5491834821372072\n",
            "Saving model here\n",
            "0\n",
            "Starting epoch 15...\n",
            " Training Loss is  0.3521862858177171\n",
            "validation loss is  0.5456568496510853\n",
            "Saving model here\n",
            "0\n",
            "Starting epoch 16...\n",
            " Training Loss is  0.34134267838735516\n",
            "validation loss is  0.5434079907352865\n",
            "Saving model here\n",
            "0\n",
            "Starting epoch 17...\n",
            " Training Loss is  0.33135093599863097\n",
            "validation loss is  0.5420758757281309\n",
            "Saving model here\n",
            "0\n",
            "Starting epoch 18...\n",
            " Training Loss is  0.32211237876087706\n",
            "validation loss is  0.5411886902646824\n",
            "Saving model here\n",
            "0\n",
            "Starting epoch 19...\n",
            " Training Loss is  0.3135405348389035\n",
            "validation loss is  0.5406981931016894\n",
            "Saving model here\n",
            "0\n",
            "Starting epoch 20...\n",
            " Training Loss is  0.3055604228359195\n",
            "validation loss is  0.5404952185748851\n",
            "Saving model here\n",
            "0\n",
            "Starting epoch 21...\n",
            " Training Loss is  0.2980921222516084\n",
            "validation loss is  0.5405332606906348\n",
            "1\n",
            "Starting epoch 22...\n",
            " Training Loss is  0.2910832090738387\n",
            "validation loss is  0.5408167098251331\n",
            "2\n",
            "Starting epoch 23...\n",
            " Training Loss is  0.2844809540001031\n",
            "validation loss is  0.5413675271741274\n",
            "3\n",
            "Starting epoch 24...\n",
            " Training Loss is  0.27823698257578405\n",
            "validation loss is  0.5421670157095302\n",
            "4\n",
            "Starting epoch 25...\n",
            " Training Loss is  0.2723212166466794\n",
            "validation loss is  0.5432074260750802\n",
            "5\n",
            "Starting epoch 26...\n",
            " Training Loss is  0.2666610283915821\n",
            "validation loss is  0.5444811148281951\n",
            "6\n",
            "Starting epoch 27...\n",
            " Training Loss is  0.26123296130143964\n",
            "validation loss is  0.5459870948048903\n",
            "7\n",
            "Starting epoch 28...\n",
            " Training Loss is  0.256055632592341\n",
            "validation loss is  0.5480250850089613\n",
            "Early Stopping to avoid overfitting\n",
            "patience counter is  8\n",
            "loaded epoch is 20\n"
          ],
          "name": "stdout"
        }
      ]
    },
    {
      "cell_type": "code",
      "metadata": {
        "id": "bSAhtzQJ7jvW",
        "colab_type": "code",
        "colab": {
          "base_uri": "https://localhost:8080/",
          "height": 279
        },
        "outputId": "ac3b734a-c86c-42df-99ba-e8e4eb2215ba"
      },
      "source": [
        "import matplotlib.pyplot as plt\n",
        "plt.plot(avg_training_losses, label = 'Train')\n",
        "plt.plot(avg_valid_losses, label = 'Validation')\n",
        "plt.xlabel(\"Number of Epochs\")\n",
        "plt.ylabel(\"Loss\")\n",
        "plt.legend()\n",
        "plt.show()"
      ],
      "execution_count": 18,
      "outputs": [
        {
          "output_type": "display_data",
          "data": {
            "image/png": "[encoded data removed]",
            "text/plain": [
              "<Figure size 432x288 with 1 Axes>"
            ]
          },
          "metadata": {
            "tags": [],
            "needs_background": "light"
          }
        }
      ]
    },
    {
      "cell_type": "code",
      "metadata": {
        "id": "wYDE2h_KCNPz",
        "colab_type": "code",
        "colab": {}
      },
      "source": [
        "\n",
        "# #pytorch_tagging.py\n",
        "# # See what the scores are before training\n",
        "# # Note that element i,j of the output is the score for tag j for word i.\n",
        "# # Here we don't need to train, so the code is wrapped in torch.no_grad()\n",
        "# with torch.no_grad():\n",
        "#   #changes here\n",
        "#   for index in range(len(training_data_UNK)):\n",
        "#     #changes here\n",
        "# \t  inputs = prepare_sequence(training_data_UNK[index][0], word_to_ix_UNK)\n",
        "# \t  tag_scores = model(inputs)\n",
        "# \t  print(tag_scores)\n",
        "#    #changes here\n",
        "# \t  for i,word in enumerate(training_data_UNK[index][0]):\n",
        "# \t\t  j = int(np.argmax(tag_scores[i]))\n",
        "# \t\t  print(f\"\\t{word}|{ix_to_tag_UNK[j]}\")"
      ],
      "execution_count": 19,
      "outputs": []
    },
    {
      "cell_type": "code",
      "metadata": {
        "id": "lLLqfC_ZWXnE",
        "colab_type": "code",
        "colab": {}
      },
      "source": [
        "TEST_FILE = \"./irish.test\"\n",
        "test_data = convert_data_for_training(read_data(TEST_FILE))\n",
        "\n",
        "with torch.no_grad():\n",
        "\t# this will be the file to write the outputs\n",
        "\twith open(\"mymodel_output_irish_UNK.txt\", 'w') as op:\n",
        "\t\tfor instance in test_data:\n",
        "\t\t\t# Convert the test sentence into a word ID tensor\n",
        "\t\t\tinputs = prepare_sequence(instance[0], word_to_ix_UNK)\n",
        "\t\t\t# Forward pass\n",
        "\t\t\ttag_scores = model(inputs)\n",
        "\t\t\t# Find the tag with the highest probability in each position\n",
        "\t\t\toutputs = [int(np.argmax(ts)) for ts in tag_scores]\n",
        "\t\t\t# Prepare the output to be written in the same format as the test file (word|tag)\n",
        "\t\t\tformatted_output = ' '.join([f\"{word}|{ix_to_tag_UNK[tag_id]}\" for word,tag_id in zip(instance[0],outputs)])\n",
        "\t\t\t# Write the output\n",
        "\t\t\top.write(formatted_output + '\\n')"
      ],
      "execution_count": 20,
      "outputs": []
    },
    {
      "cell_type": "code",
      "metadata": {
        "id": "7IjC0sTZCYz3",
        "colab_type": "code",
        "colab": {}
      },
      "source": [
        "#compute_accuracy\n",
        "def acc_read_data(f):\n",
        "\twith open(f) as inp:\n",
        "\t\tlines = inp.readlines()\n",
        "\tdata = []\n",
        "\tfor line in lines:\n",
        "\t\tline = line.strip().split()\n",
        "\t\tsentence = []\n",
        "\t\tfor token in line:\n",
        "\t\t\ttoken = token.split('|')\n",
        "\t\t\tword = token[0]\n",
        "\t\t\ttag = token[1]\n",
        "\t\t\tsentence.append((word,tag))\n",
        "\t\tdata.append(sentence)\n",
        "\treturn data"
      ],
      "execution_count": 21,
      "outputs": []
    },
    {
      "cell_type": "code",
      "metadata": {
        "id": "3GISb8RaMTfx",
        "colab_type": "code",
        "colab": {}
      },
      "source": [
        "def compute_accuracy(output, gold):\n",
        "\ttry:\n",
        "\t\tassert(len(output) == len(gold))\n",
        "\texcept:\n",
        "\t\tprint(\"Different number of lines in the two files!\")\n",
        "\t\treturn -1\n",
        "\n",
        "\tcount_correct = 0\n",
        "\tcount_total_tokens = 0\n",
        "\tfor o_sent,g_sent in zip(output,gold):\n",
        "\t\ttry:\n",
        "\t\t\tassert(len(o_sent)==len(g_sent))\n",
        "\t\texcept:\n",
        "\t\t\tprint(\"Different number of tokens in the two lines!\")\n",
        "\t\t\treturn -1\n",
        "\t\tcheck = [o_token[1] == g_token[1] for o_token,g_token in zip(o_sent,g_sent)]\n",
        "\t\tcount_correct += sum(check)\n",
        "\t\tcount_total_tokens += len(check)\n",
        "\treturn count_correct/count_total_tokens"
      ],
      "execution_count": 22,
      "outputs": []
    },
    {
      "cell_type": "code",
      "metadata": {
        "id": "bi4LzYzIMhrt",
        "colab_type": "code",
        "colab": {}
      },
      "source": [
        "output = acc_read_data(\"./mymodel_output_irish_UNK.txt\")\n",
        "gold = acc_read_data(\"./irish.test\")\n",
        "acc = compute_accuracy(output,gold)"
      ],
      "execution_count": 23,
      "outputs": []
    },
    {
      "cell_type": "code",
      "metadata": {
        "id": "suGqv7_XNNJE",
        "colab_type": "code",
        "colab": {
          "base_uri": "https://localhost:8080/",
          "height": 34
        },
        "outputId": "db91a2b1-aa34-4b2d-eb32-87552ee28994"
      },
      "source": [
        "acc"
      ],
      "execution_count": 24,
      "outputs": [
        {
          "output_type": "execute_result",
          "data": {
            "text/plain": [
              "0.8336136116331981"
            ]
          },
          "metadata": {
            "tags": []
          },
          "execution_count": 24
        }
      ]
    },
    {
      "cell_type": "code",
      "metadata": {
        "id": "fNL5iAweZaa6",
        "colab_type": "code",
        "colab": {}
      },
      "source": [
        ""
      ],
      "execution_count": null,
      "outputs": []
    }
  ]
}