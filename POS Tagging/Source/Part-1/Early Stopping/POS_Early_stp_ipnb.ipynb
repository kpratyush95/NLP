{
  "nbformat": 4,
  "nbformat_minor": 0,
  "metadata": {
    "colab": {
      "name": "POS_Early_stp.ipnb",
      "provenance": [],
      "collapsed_sections": []
    },
    "kernelspec": {
      "name": "python3",
      "display_name": "Python 3"
    }
  },
  "cells": [
    {
      "cell_type": "code",
      "metadata": {
        "id": "zUAObcsQWCxD",
        "colab_type": "code",
        "colab": {}
      },
      "source": [
        "import pandas as pd\n",
        "import torch\n",
        "import torch.nn as nn\n",
        "import torch.nn.functional as F\n",
        "import torch.optim as optim\n",
        "import numpy as np"
      ],
      "execution_count": 1,
      "outputs": []
    },
    {
      "cell_type": "code",
      "metadata": {
        "id": "r8l45lPXWHhp",
        "colab_type": "code",
        "colab": {}
      },
      "source": [
        "# From utils.py\n",
        "def read_data(f):\n",
        "\twith open(f) as inp:\n",
        "\t\tlines = inp.readlines()\n",
        "\tdata = []\n",
        "\tfor line in lines:\n",
        "\t\tline = line.strip().split()\n",
        "\t\tsentence = []\n",
        "\t\tfor token in line:\n",
        "\t\t\ttoken = token.split('|')\n",
        "\t\t\tword = token[0]\n",
        "\t\t\ttag = token[1]\n",
        "\t\t\tsentence.append((word,tag))\n",
        "\t\tdata.append(sentence)\n",
        "\treturn data"
      ],
      "execution_count": 2,
      "outputs": []
    },
    {
      "cell_type": "code",
      "metadata": {
        "id": "-pV8p1hEWHvi",
        "colab_type": "code",
        "colab": {}
      },
      "source": [
        "# from utils.py\n",
        "def convert_data_for_training(data):\n",
        "\t#for d in data:\n",
        "\t#\ttokens = [t[0] for t in d]\n",
        "\t#\ttags = [t[1] for t in d]\n",
        "\treturn [([t[0] for t in d],[t[1] for t in d]) for d in data]"
      ],
      "execution_count": 3,
      "outputs": []
    },
    {
      "cell_type": "code",
      "metadata": {
        "id": "IafhDcnIWH1j",
        "colab_type": "code",
        "colab": {}
      },
      "source": [
        "# from pytorch_tagging.py\n",
        "TRAINING_FILE = \"./irish.train\"\n",
        "training_data = convert_data_for_training(read_data(TRAINING_FILE))"
      ],
      "execution_count": 4,
      "outputs": []
    },
    {
      "cell_type": "code",
      "metadata": {
        "id": "uGHoxrBg36sh",
        "colab_type": "code",
        "colab": {}
      },
      "source": [
        "VALIDATION_FILE = \"./irish.dev\"\n",
        "validation_data = convert_data_for_training(read_data(VALIDATION_FILE))"
      ],
      "execution_count": 5,
      "outputs": []
    },
    {
      "cell_type": "code",
      "metadata": {
        "id": "wp2iFI28WH4C",
        "colab_type": "code",
        "colab": {}
      },
      "source": [
        "# from pytorch_tagging.py \n",
        "def words_tags_indes(data):\n",
        "\tword_to_ix = {'UNK':0}\n",
        "\tix_to_word = {0:'UNK'}\n",
        "\ttag_to_ix = {}\n",
        "\tix_to_tag = {}\n",
        "\tfor sent, tags in data:\n",
        "\t\tfor word in sent:\n",
        "\t\t\tif word not in word_to_ix:\n",
        "\t\t\t\tword_to_ix[word] = len(word_to_ix)\n",
        "\t\t\t\tix_to_word[word_to_ix[word]] = word\n",
        "\t\tfor tag in tags:\n",
        "\t\t\tif tag not in tag_to_ix:\n",
        "\t\t\t\ttag_to_ix[tag] = len(tag_to_ix)\n",
        "\t\t\t\tix_to_tag[tag_to_ix[tag]] = tag\n",
        "\treturn word_to_ix,ix_to_word,ix_to_tag, tag_to_ix"
      ],
      "execution_count": 6,
      "outputs": []
    },
    {
      "cell_type": "code",
      "metadata": {
        "id": "Qci0Eh7cWH6j",
        "colab_type": "code",
        "colab": {}
      },
      "source": [
        "word_to_ix,ix_to_word,ix_to_tag, tag_to_ix = words_tags_indes(training_data)"
      ],
      "execution_count": 7,
      "outputs": []
    },
    {
      "cell_type": "code",
      "metadata": {
        "id": "mefwnM4HWH93",
        "colab_type": "code",
        "colab": {}
      },
      "source": [
        "#pytorch_tagging.py\n",
        "torch.manual_seed(42)\n",
        "#Converts a sequence of words to a tensor of numerical values. \n",
        "def prepare_sequence(seq, to_ix):\n",
        "\tidxs = []\n",
        "\tfor word in seq:\n",
        "\t\tif word in to_ix:\n",
        "\t\t\tidxs.append(to_ix[word])\n",
        "\t\telse:\n",
        "\t\t\t idxs.append(to_ix['UNK'])\n",
        "\treturn torch.tensor(idxs, dtype=torch.long)"
      ],
      "execution_count": 8,
      "outputs": []
    },
    {
      "cell_type": "code",
      "metadata": {
        "id": "vBPflsz0V9Xf",
        "colab_type": "code",
        "colab": {}
      },
      "source": [
        "#pytorch_tagging.py\n",
        "class LSTMTagger(nn.Module):\n",
        "\t# Class that defines our model\n",
        "\tdef __init__(self, embedding_dim, hidden_dim, vocab_size, tagset_size):\n",
        "\t\tsuper(LSTMTagger, self).__init__()\n",
        "\t\tself.hidden_dim = hidden_dim\n",
        "\n",
        "\t\tself.word_embeddings = nn.Embedding(vocab_size, embedding_dim)\n",
        "\n",
        "\t\t# The LSTM takes word embeddings as inputs, and outputs hidden states\n",
        "\t\t# with dimensionality hidden_dim.\n",
        "\t\tself.lstm = nn.LSTM(embedding_dim, hidden_dim)\n",
        "\n",
        "\t\t# The linear layer that maps from hidden state space to tag space\n",
        "\t\tself.hidden2tag = nn.Linear(hidden_dim, tagset_size)\n",
        "\n",
        "\t# This is the forward computation, which constructs the computation graph\n",
        "\tdef forward(self, sentence):\n",
        "\t\t# Get the embeddings\n",
        "\t\tembeds = self.word_embeddings(sentence)\n",
        "\t\t# put them through the LSTM and get its output\n",
        "\t\tlstm_out, _ = self.lstm(embeds.view(len(sentence), 1, -1))\n",
        "\t\t# pass that output through the linnear layer\n",
        "\t\ttag_space = self.hidden2tag(lstm_out.view(len(sentence), -1))\n",
        "\t\t# convert the logits to a log probability distribution\n",
        "\t\ttag_scores = F.log_softmax(tag_space, dim=1)\n",
        "\t\treturn tag_scores"
      ],
      "execution_count": 9,
      "outputs": []
    },
    {
      "cell_type": "code",
      "metadata": {
        "id": "gfDFR6JnX_bc",
        "colab_type": "code",
        "colab": {}
      },
      "source": [
        "#pytorch_tagging.py\n",
        "# Hyperparameters\n",
        "EMBEDDING_DIM = 32\n",
        "HIDDEN_DIM = 32\n",
        "# DROPOUT = ?\n",
        "# LAYERS = ?"
      ],
      "execution_count": 10,
      "outputs": []
    },
    {
      "cell_type": "code",
      "metadata": {
        "id": "lvjGkvN5YBTA",
        "colab_type": "code",
        "colab": {}
      },
      "source": [
        "#pytorch_taggin.py\n",
        "# Initialize the model\n",
        "model = LSTMTagger(EMBEDDING_DIM, HIDDEN_DIM, len(word_to_ix), len(tag_to_ix))\n",
        "# Loss function to use\n",
        "loss_function = nn.NLLLoss()\n",
        "# Optimizer to use during training\n",
        "optimizer = optim.SGD(model.parameters(), lr=0.1)\n"
      ],
      "execution_count": 11,
      "outputs": []
    },
    {
      "cell_type": "code",
      "metadata": {
        "id": "46kMszuxYH2U",
        "colab_type": "code",
        "colab": {}
      },
      "source": [
        "#pytorch_taggin.py\n",
        "# Training loop\n",
        "def train_model(model,n_epochs, patience, training_data, validation_data):\n",
        "\tpatience_counter = 0\n",
        "\tmin_loss = np.inf\n",
        "\tpath = \"./model_save_Early_stop.pth\"\n",
        "\tavg_training_losses = []\n",
        "\tavg_valid_losses = []\n",
        "\tfor epoch in range(n_epochs):  # normally you would NOT do 100 epochs, it is toy data\n",
        "\t\tprint(f\"Starting epoch {epoch}...\")\n",
        "\t\ttraining_losses = []\n",
        "\t\tfor sentence, tags in training_data:\n",
        "\t\t\t# Step 1. Remember that Pytorch accumulates gradients.\n",
        "\t\t\t# We need to clear them out before each instance\n",
        "\t\t\tmodel.zero_grad()\n",
        "\n",
        "\t\t\t# Step 2. Get our inputs ready for the network, that is, turn them into\n",
        "\t\t\t# Tensors of word indices.\n",
        "\t\t\t# Eventually I suggest you use the DataLoader modules\n",
        "\t\t\t# The batching can take place here\n",
        "\t\t\tsentence_in = prepare_sequence(sentence, word_to_ix)\n",
        "\t\t\ttargets = prepare_sequence(tags, tag_to_ix)\n",
        "\t\t\t# Step 3. Run our forward pass.\n",
        "\t\t\ttag_scores = model(sentence_in)\n",
        "\t\n",
        "\t\t\t# Step 4. Compute the loss, gradients, and update the parameters by\n",
        "\t\t\t#  calling optimizer.step()\n",
        "\t\t\tloss = loss_function(tag_scores, targets)\n",
        "\t\t\ttraining_losses.append(loss.item())\n",
        "\t\t\tloss.backward()\n",
        "\t\t\toptimizer.step()\n",
        "\t\tavg_training_losses.append(np.average(training_losses))\n",
        "\t\tprint(\" Training Loss is \",avg_training_losses[epoch])\n",
        "\t\tvalid_losses = []\n",
        "\t\tfor validation_sentence, validation_tags in validation_data:\n",
        "\t\t\tvalidation_sentence_in = prepare_sequence(validation_sentence, word_to_ix)\n",
        "\t\t\tvalidation_targets = prepare_sequence(validation_tags, tag_to_ix)\n",
        "\t\t\tvalidation_tag_scores = model(validation_sentence_in)\n",
        "\t\t\tvalidation_loss = loss_function(validation_tag_scores, validation_targets)\n",
        "\t\t\tvalid_losses.append(validation_loss.item())\n",
        "\t\tavg_valid_losses.append(np.average(valid_losses))\n",
        "\t\tprint(\"validation loss is \",avg_valid_losses[epoch])\n",
        "\t\tif min_loss > avg_valid_losses[epoch]:\n",
        "\t\t\tpatience_counter = 0\n",
        "\t\t\tmin_loss = avg_valid_losses[epoch]\n",
        "\t\telse:\n",
        "\t\t\tpatience_counter+=1\n",
        "\t\t\tif patience_counter == patience:\n",
        "\t\t\t\tprint(\"Early Stopping to avoid overfitting\")\n",
        "\t\t\t\tmodel_checkpoint = torch.load(path)\n",
        "\t\t\t\tmodel.load_state_dict(model_checkpoint['state_dict'])\n",
        "\t\t\t\toptimizer.load_state_dict(model_checkpoint['optimizer'])\n",
        "\t\t\t\tmodel_epoch = model_checkpoint['epoch']\n",
        "\t\t\t\tprint(\"patience counter is \",patience_counter)\n",
        "\t\t\t\tprint(\"loaded epoch is\",model_epoch)\n",
        "\t\t\t\tbreak\n",
        "\t\tif patience_counter==0:\n",
        "\t\t\tprint(\"Saving model here\")\n",
        "\t\t\tmodel_state = {'epoch' : epoch,\n",
        "\t\t\t\t\t\t'state_dict' : model.state_dict(),\n",
        "\t\t\t\t\t\t'optimizer' : optimizer.state_dict(),\n",
        "\t\t\t\t\t\t}\n",
        "\t\t\ttorch.save(model_state, path)\n",
        "\t\tprint(\"Patience counter\",patience_counter)\n",
        "\treturn avg_training_losses, avg_valid_losses"
      ],
      "execution_count": 12,
      "outputs": []
    },
    {
      "cell_type": "code",
      "metadata": {
        "id": "ljS4iUE34NSo",
        "colab_type": "code",
        "colab": {
          "base_uri": "https://localhost:8080/",
          "height": 1000
        },
        "outputId": "59db80cc-ff96-4a28-bfbd-c6a110c6d670"
      },
      "source": [
        "avg_training_losses, avg_valid_losses = train_model(model,50, 8, training_data, validation_data)"
      ],
      "execution_count": 13,
      "outputs": [
        {
          "output_type": "stream",
          "text": [
            "Starting epoch 0...\n",
            " Training Loss is  1.565852379855811\n",
            "validation loss is  1.1198798529060348\n",
            "Saving model here\n",
            "Patience counter 0\n",
            "Starting epoch 1...\n",
            " Training Loss is  0.9787535238064274\n",
            "validation loss is  0.912713336574529\n",
            "Saving model here\n",
            "Patience counter 0\n",
            "Starting epoch 2...\n",
            " Training Loss is  0.8117375570088081\n",
            "validation loss is  0.8184561677888333\n",
            "Saving model here\n",
            "Patience counter 0\n",
            "Starting epoch 3...\n",
            " Training Loss is  0.7170460696294736\n",
            "validation loss is  0.7679519505630311\n",
            "Saving model here\n",
            "Patience counter 0\n",
            "Starting epoch 4...\n",
            " Training Loss is  0.6516013894792139\n",
            "validation loss is  0.7368716613003393\n",
            "Saving model here\n",
            "Patience counter 0\n",
            "Starting epoch 5...\n",
            " Training Loss is  0.6017951272972518\n",
            "validation loss is  0.7140697244463897\n",
            "Saving model here\n",
            "Patience counter 0\n",
            "Starting epoch 6...\n",
            " Training Loss is  0.5610748627933444\n",
            "validation loss is  0.6970037990796922\n",
            "Saving model here\n",
            "Patience counter 0\n",
            "Starting epoch 7...\n",
            " Training Loss is  0.5264538141665346\n",
            "validation loss is  0.6846218240259426\n",
            "Saving model here\n",
            "Patience counter 0\n",
            "Starting epoch 8...\n",
            " Training Loss is  0.49627000048852227\n",
            "validation loss is  0.6760281373575296\n",
            "Saving model here\n",
            "Patience counter 0\n",
            "Starting epoch 9...\n",
            " Training Loss is  0.46932911088607976\n",
            "validation loss is  0.6692728595952699\n",
            "Saving model here\n",
            "Patience counter 0\n",
            "Starting epoch 10...\n",
            " Training Loss is  0.44483477930570997\n",
            "validation loss is  0.663664001572935\n",
            "Saving model here\n",
            "Patience counter 0\n",
            "Starting epoch 11...\n",
            " Training Loss is  0.4223702567313484\n",
            "validation loss is  0.6597127694463122\n",
            "Saving model here\n",
            "Patience counter 0\n",
            "Starting epoch 12...\n",
            " Training Loss is  0.40157143267441753\n",
            "validation loss is  0.6573247764168716\n",
            "Saving model here\n",
            "Patience counter 0\n",
            "Starting epoch 13...\n",
            " Training Loss is  0.3822385001982786\n",
            "validation loss is  0.6562639097879308\n",
            "Saving model here\n",
            "Patience counter 0\n",
            "Starting epoch 14...\n",
            " Training Loss is  0.36423158823806606\n",
            "validation loss is  0.6569488560171702\n",
            "Patience counter 1\n",
            "Starting epoch 15...\n",
            " Training Loss is  0.3474752148775849\n",
            "validation loss is  0.6587571388961305\n",
            "Patience counter 2\n",
            "Starting epoch 16...\n",
            " Training Loss is  0.331796958852858\n",
            "validation loss is  0.6611742619378596\n",
            "Patience counter 3\n",
            "Starting epoch 17...\n",
            " Training Loss is  0.31703672963513546\n",
            "validation loss is  0.6640876795060957\n",
            "Patience counter 4\n",
            "Starting epoch 18...\n",
            " Training Loss is  0.30319358216760095\n",
            "validation loss is  0.667747619383227\n",
            "Patience counter 5\n",
            "Starting epoch 19...\n",
            " Training Loss is  0.290147299709308\n",
            "validation loss is  0.6722459280574302\n",
            "Patience counter 6\n",
            "Starting epoch 20...\n",
            " Training Loss is  0.27784216614958346\n",
            "validation loss is  0.6774694208051089\n",
            "Patience counter 7\n",
            "Starting epoch 21...\n",
            " Training Loss is  0.26623637987786525\n",
            "validation loss is  0.6833795569919694\n",
            "Early Stopping to avoid overfitting\n",
            "patience counter is  8\n",
            "loaded epoch is 13\n"
          ],
          "name": "stdout"
        }
      ]
    },
    {
      "cell_type": "code",
      "metadata": {
        "id": "EqEu0h4e6Z0k",
        "colab_type": "code",
        "colab": {
          "base_uri": "https://localhost:8080/",
          "height": 279
        },
        "outputId": "5ba5b197-81fd-411f-fc74-425421d2e2d3"
      },
      "source": [
        "import matplotlib.pyplot as plt\n",
        "plt.plot(avg_training_losses, label = 'Train')\n",
        "plt.plot(avg_valid_losses, label = 'Validation')\n",
        "plt.xlabel(\"Number of Epochs\")\n",
        "plt.ylabel(\"Loss\")\n",
        "plt.legend()\n",
        "plt.show()"
      ],
      "execution_count": 14,
      "outputs": [
        {
          "output_type": "display_data",
          "data": {
            "image/png": "[encoded data removed]",
            "text/plain": [
              "<Figure size 432x288 with 1 Axes>"
            ]
          },
          "metadata": {
            "tags": [],
            "needs_background": "light"
          }
        }
      ]
    },
    {
      "cell_type": "code",
      "metadata": {
        "id": "ZdjxzRT4YPBs",
        "colab_type": "code",
        "colab": {}
      },
      "source": [
        "# #pytorch_tagging.py\n",
        "# # See what the scores are before training\n",
        "# # Note that element i,j of the output is the score for tag j for word i.\n",
        "# # Here we don't need to train, so the code is wrapped in torch.no_grad()\n",
        "# with torch.no_grad():\n",
        "#   #changes here\n",
        "#   for index in range(len(training_data)):\n",
        "#     #changes here\n",
        "# \t  inputs = prepare_sequence(training_data[index][0], word_to_ix)\n",
        "# \t  tag_scores = model(inputs)\n",
        "# \t  print(tag_scores)\n",
        "#    #changes here\n",
        "# \t  for i,word in enumerate(training_data[index][0]):\n",
        "# \t\t  j = int(np.argmax(tag_scores[i]))\n",
        "# \t\t  print(f\"\\t{word}|{ix_to_tag[j]}\")"
      ],
      "execution_count": 15,
      "outputs": []
    },
    {
      "cell_type": "code",
      "metadata": {
        "id": "9zF3jlL1Ya2g",
        "colab_type": "code",
        "colab": {}
      },
      "source": [
        "TEST_FILE = \"./irish.test\"\n",
        "test_data = convert_data_for_training(read_data(TEST_FILE))\n",
        "\n",
        "with torch.no_grad():\n",
        "\t# this will be the file to write the outputs\n",
        "\twith open(\"mymodel_output_irish.txt\", 'w') as op:\n",
        "\t\tfor instance in test_data:\n",
        "\t\t\t# Convert the test sentence into a word ID tensor\n",
        "\t\t\tinputs = prepare_sequence(instance[0], word_to_ix)\n",
        "\t\t\t# Forward pass\n",
        "\t\t\ttag_scores = model(inputs)\n",
        "\t\t\t# Find the tag with the highest probability in each position\n",
        "\t\t\toutputs = [int(np.argmax(ts)) for ts in tag_scores]\n",
        "\t\t\t# Prepare the output to be written in the same format as the test file (word|tag)\n",
        "\t\t\tformatted_output = ' '.join([f\"{word}|{ix_to_tag[tag_id]}\" for word,tag_id in zip(instance[0],outputs)])\n",
        "\t\t\t# Write the output\n",
        "\t\t\top.write(formatted_output + '\\n')"
      ],
      "execution_count": 16,
      "outputs": []
    },
    {
      "cell_type": "code",
      "metadata": {
        "id": "2lGyGuHIapNM",
        "colab_type": "code",
        "colab": {}
      },
      "source": [
        "#compute_accuracy\n",
        "def acc_read_data(f):\n",
        "\twith open(f) as inp:\n",
        "\t\tlines = inp.readlines()\n",
        "\tdata = []\n",
        "\tfor line in lines:\n",
        "\t\tline = line.strip().split()\n",
        "\t\tsentence = []\n",
        "\t\tfor token in line:\n",
        "\t\t\ttoken = token.split('|')\n",
        "\t\t\tword = token[0]\n",
        "\t\t\ttag = token[1]\n",
        "\t\t\tsentence.append((word,tag))\n",
        "\t\tdata.append(sentence)\n",
        "\treturn data"
      ],
      "execution_count": 17,
      "outputs": []
    },
    {
      "cell_type": "code",
      "metadata": {
        "id": "8ikalXbnbERC",
        "colab_type": "code",
        "colab": {}
      },
      "source": [
        "def compute_accuracy(output, gold):\n",
        "\ttry:\n",
        "\t\tassert(len(output) == len(gold))\n",
        "\texcept:\n",
        "\t\tprint(\"Different number of lines in the two files!\")\n",
        "\t\treturn -1\n",
        "\n",
        "\tcount_correct = 0\n",
        "\tcount_total_tokens = 0\n",
        "\tfor o_sent,g_sent in zip(output,gold):\n",
        "\t\ttry:\n",
        "\t\t\tassert(len(o_sent)==len(g_sent))\n",
        "\t\texcept:\n",
        "\t\t\tprint(\"Different number of tokens in the two lines!\")\n",
        "\t\t\treturn -1\n",
        "\t\tcheck = [o_token[1] == g_token[1] for o_token,g_token in zip(o_sent,g_sent)]\n",
        "\t\tcount_correct += sum(check)\n",
        "\t\tcount_total_tokens += len(check)\n",
        "\treturn count_correct/count_total_tokens"
      ],
      "execution_count": 18,
      "outputs": []
    },
    {
      "cell_type": "code",
      "metadata": {
        "id": "vbwiflREYnd-",
        "colab_type": "code",
        "colab": {}
      },
      "source": [
        "output = acc_read_data(\"./mymodel_output_irish.txt\")\n",
        "gold = acc_read_data(\"./irish.test\")\n",
        "acc = compute_accuracy(output,gold)"
      ],
      "execution_count": 19,
      "outputs": []
    },
    {
      "cell_type": "code",
      "metadata": {
        "id": "CiO3L0xEajyR",
        "colab_type": "code",
        "colab": {
          "base_uri": "https://localhost:8080/",
          "height": 34
        },
        "outputId": "563d65b3-e45a-4f68-e34c-cb9919628cb5"
      },
      "source": [
        "acc"
      ],
      "execution_count": 20,
      "outputs": [
        {
          "output_type": "execute_result",
          "data": {
            "text/plain": [
              "0.8002769809081017"
            ]
          },
          "metadata": {
            "tags": []
          },
          "execution_count": 20
        }
      ]
    },
    {
      "cell_type": "code",
      "metadata": {
        "id": "t9FqWoRb2U-j",
        "colab_type": "code",
        "colab": {}
      },
      "source": [
        "\n"
      ],
      "execution_count": 20,
      "outputs": []
    }
  ]
}